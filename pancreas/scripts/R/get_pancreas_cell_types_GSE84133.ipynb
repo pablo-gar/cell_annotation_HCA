{
 "cells": [
  {
   "cell_type": "code",
   "execution_count": 1,
   "metadata": {},
   "outputs": [],
   "source": [
    "# Gets data from GSE84133 into genexcell matrix along the celltypes\n",
    "out_count <- \"GSE84133_human_counts.tsv\"\n",
    "out_cellType <- \"GSE84133_human_cellTypes.tsv\""
   ]
  },
  {
   "cell_type": "code",
   "execution_count": 2,
   "metadata": {},
   "outputs": [],
   "source": [
    "# Downloads data\n",
    "download.file(\"https://www.ncbi.nlm.nih.gov/geo/download/?acc=GSE84133&format=file\", destfile=\"GSE84133_RAW.tar\")\n",
    "untar(\"GSE84133_RAW.tar\")"
   ]
  },
  {
   "cell_type": "code",
   "execution_count": 6,
   "metadata": {},
   "outputs": [],
   "source": [
    "cell_counts <- list()\n",
    "for(i in list.files(pattern=\"*human*\")){\n",
    "    cell_counts[[i]] <- read.table(gzfile(i), sep=',', stringsAsFactors=F, header=T)\n",
    "}\n",
    "cell_counts <- do.call(rbind, cell_counts)\n",
    "\n",
    "# Getting cell types\n",
    "cell_types <- as.data.frame(setNames(cell_counts[,3], cell_counts[,1]))\n",
    "colnames(cell_types) <- \"cellType\"\n",
    "#Correcting cell types\n",
    "cell_types$cellType <- as.character(cell_types$cellType)\n",
    "cell_types$cellType[cell_types$cellType == \"activated_stellate\"] <- \"PSC\"\n",
    "cell_types$cellType[cell_types$cellType == \"quiescent_stellate\"] <- \"PSC\"\n",
    "\n",
    "cell_types$cellID <- rownames(cell_types)\n",
    "cell_types <- t(cell_types)\n",
    "\n",
    "\n",
    "#rownames(cell_counts) <- cell_counts[,1]\n",
    "cell_counts <- cell_counts[,-(1:3)]\n",
    "cell_counts <- t(cell_counts)\n",
    "cell_counts <- cbind(gene=rownames(cell_counts), cell_counts)"
   ]
  },
  {
   "cell_type": "code",
   "execution_count": 7,
   "metadata": {},
   "outputs": [
    {
     "data": {
      "text/html": [
       "<table>\n",
       "<caption>A matrix: 6 × 4 of type chr</caption>\n",
       "<thead>\n",
       "\t<tr><th></th><th scope=col>gene</th><th scope=col>GSM2230757_human1_umifm_counts.csv.gz.1</th><th scope=col>GSM2230757_human1_umifm_counts.csv.gz.2</th><th scope=col>GSM2230757_human1_umifm_counts.csv.gz.3</th></tr>\n",
       "</thead>\n",
       "<tbody>\n",
       "\t<tr><th scope=row>A1BG</th><td>A1BG  </td><td>0</td><td>0</td><td>0</td></tr>\n",
       "\t<tr><th scope=row>A1CF</th><td>A1CF  </td><td>4</td><td>0</td><td>0</td></tr>\n",
       "\t<tr><th scope=row>A2M</th><td>A2M   </td><td>0</td><td>0</td><td>0</td></tr>\n",
       "\t<tr><th scope=row>A2ML1</th><td>A2ML1 </td><td>0</td><td>0</td><td>0</td></tr>\n",
       "\t<tr><th scope=row>A4GALT</th><td>A4GALT</td><td>0</td><td>0</td><td>0</td></tr>\n",
       "\t<tr><th scope=row>A4GNT</th><td>A4GNT </td><td>0</td><td>0</td><td>0</td></tr>\n",
       "</tbody>\n",
       "</table>\n"
      ],
      "text/latex": [
       "A matrix: 6 × 4 of type chr\n",
       "\\begin{tabular}{r|llll}\n",
       "  & gene & GSM2230757\\_human1\\_umifm\\_counts.csv.gz.1 & GSM2230757\\_human1\\_umifm\\_counts.csv.gz.2 & GSM2230757\\_human1\\_umifm\\_counts.csv.gz.3\\\\\n",
       "\\hline\n",
       "\tA1BG & A1BG   & 0 & 0 & 0\\\\\n",
       "\tA1CF & A1CF   & 4 & 0 & 0\\\\\n",
       "\tA2M & A2M    & 0 & 0 & 0\\\\\n",
       "\tA2ML1 & A2ML1  & 0 & 0 & 0\\\\\n",
       "\tA4GALT & A4GALT & 0 & 0 & 0\\\\\n",
       "\tA4GNT & A4GNT  & 0 & 0 & 0\\\\\n",
       "\\end{tabular}\n"
      ],
      "text/markdown": [
       "\n",
       "A matrix: 6 × 4 of type chr\n",
       "\n",
       "| <!--/--> | gene | GSM2230757_human1_umifm_counts.csv.gz.1 | GSM2230757_human1_umifm_counts.csv.gz.2 | GSM2230757_human1_umifm_counts.csv.gz.3 |\n",
       "|---|---|---|---|---|\n",
       "| A1BG | A1BG   | 0 | 0 | 0 |\n",
       "| A1CF | A1CF   | 4 | 0 | 0 |\n",
       "| A2M | A2M    | 0 | 0 | 0 |\n",
       "| A2ML1 | A2ML1  | 0 | 0 | 0 |\n",
       "| A4GALT | A4GALT | 0 | 0 | 0 |\n",
       "| A4GNT | A4GNT  | 0 | 0 | 0 |\n",
       "\n"
      ],
      "text/plain": [
       "       gene   GSM2230757_human1_umifm_counts.csv.gz.1\n",
       "A1BG   A1BG   0                                      \n",
       "A1CF   A1CF   4                                      \n",
       "A2M    A2M    0                                      \n",
       "A2ML1  A2ML1  0                                      \n",
       "A4GALT A4GALT 0                                      \n",
       "A4GNT  A4GNT  0                                      \n",
       "       GSM2230757_human1_umifm_counts.csv.gz.2\n",
       "A1BG   0                                      \n",
       "A1CF   0                                      \n",
       "A2M    0                                      \n",
       "A2ML1  0                                      \n",
       "A4GALT 0                                      \n",
       "A4GNT  0                                      \n",
       "       GSM2230757_human1_umifm_counts.csv.gz.3\n",
       "A1BG   0                                      \n",
       "A1CF   0                                      \n",
       "A2M    0                                      \n",
       "A2ML1  0                                      \n",
       "A4GALT 0                                      \n",
       "A4GNT  0                                      "
      ]
     },
     "metadata": {},
     "output_type": "display_data"
    },
    {
     "data": {
      "text/html": [
       "<table>\n",
       "<caption>A matrix: 2 × 4 of type chr</caption>\n",
       "<thead>\n",
       "\t<tr><th></th><th scope=col>human1_lib1.final_cell_0001</th><th scope=col>human1_lib1.final_cell_0002</th><th scope=col>human1_lib1.final_cell_0003</th><th scope=col>human1_lib1.final_cell_0004</th></tr>\n",
       "</thead>\n",
       "<tbody>\n",
       "\t<tr><th scope=row>cellType</th><td>acinar                     </td><td>acinar                     </td><td>acinar                     </td><td>acinar                     </td></tr>\n",
       "\t<tr><th scope=row>cellID</th><td>human1_lib1.final_cell_0001</td><td>human1_lib1.final_cell_0002</td><td>human1_lib1.final_cell_0003</td><td>human1_lib1.final_cell_0004</td></tr>\n",
       "</tbody>\n",
       "</table>\n"
      ],
      "text/latex": [
       "A matrix: 2 × 4 of type chr\n",
       "\\begin{tabular}{r|llll}\n",
       "  & human1\\_lib1.final\\_cell\\_0001 & human1\\_lib1.final\\_cell\\_0002 & human1\\_lib1.final\\_cell\\_0003 & human1\\_lib1.final\\_cell\\_0004\\\\\n",
       "\\hline\n",
       "\tcellType & acinar                      & acinar                      & acinar                      & acinar                     \\\\\n",
       "\tcellID & human1\\_lib1.final\\_cell\\_0001 & human1\\_lib1.final\\_cell\\_0002 & human1\\_lib1.final\\_cell\\_0003 & human1\\_lib1.final\\_cell\\_0004\\\\\n",
       "\\end{tabular}\n"
      ],
      "text/markdown": [
       "\n",
       "A matrix: 2 × 4 of type chr\n",
       "\n",
       "| <!--/--> | human1_lib1.final_cell_0001 | human1_lib1.final_cell_0002 | human1_lib1.final_cell_0003 | human1_lib1.final_cell_0004 |\n",
       "|---|---|---|---|---|\n",
       "| cellType | acinar                      | acinar                      | acinar                      | acinar                      |\n",
       "| cellID | human1_lib1.final_cell_0001 | human1_lib1.final_cell_0002 | human1_lib1.final_cell_0003 | human1_lib1.final_cell_0004 |\n",
       "\n"
      ],
      "text/plain": [
       "         human1_lib1.final_cell_0001 human1_lib1.final_cell_0002\n",
       "cellType acinar                      acinar                     \n",
       "cellID   human1_lib1.final_cell_0001 human1_lib1.final_cell_0002\n",
       "         human1_lib1.final_cell_0003 human1_lib1.final_cell_0004\n",
       "cellType acinar                      acinar                     \n",
       "cellID   human1_lib1.final_cell_0003 human1_lib1.final_cell_0004"
      ]
     },
     "metadata": {},
     "output_type": "display_data"
    }
   ],
   "source": [
    "head(cell_counts[,1:4])\n",
    "head(cell_types[,1:4])"
   ]
  },
  {
   "cell_type": "code",
   "execution_count": 8,
   "metadata": {},
   "outputs": [],
   "source": [
    "# Save data\n",
    "write.table(cell_counts, out_count, sep=\"\\t\", quote=F, row.names=F)\n",
    "write.table(cell_types, out_cellType, sep=\"\\t\", quote=F, col.names=F)"
   ]
  }
 ],
 "metadata": {
  "kernelspec": {
   "display_name": "R",
   "language": "R",
   "name": "ir"
  },
  "language_info": {
   "codemirror_mode": "r",
   "file_extension": ".r",
   "mimetype": "text/x-r-source",
   "name": "R",
   "pygments_lexer": "r",
   "version": "3.6.0"
  }
 },
 "nbformat": 4,
 "nbformat_minor": 2
}
