{
 "cells": [
  {
   "cell_type": "code",
   "execution_count": 5,
   "metadata": {},
   "outputs": [],
   "source": [
    "library(\"GEOquery\")\n",
    "geo_id  <- \"GSE81547\"\n",
    "out_file <- \"pancreas_GSE81547_cell_features.tsv\" # Will contain cell characteristics"
   ]
  },
  {
   "cell_type": "code",
   "execution_count": 6,
   "metadata": {},
   "outputs": [
    {
     "name": "stderr",
     "output_type": "stream",
     "text": [
      "Found 1 file(s)\n",
      "GSE81547_series_matrix.txt.gz\n",
      "Parsed with column specification:\n",
      "cols(\n",
      "  .default = col_character()\n",
      ")\n",
      "See spec(...) for full column specifications.\n",
      "File stored at: \n",
      "/var/folders/37/f_hljrvj7291y8ygpf4r54wh0000gq/T//RtmpATSvjV/GPL18573.soft\n"
     ]
    }
   ],
   "source": [
    "# Reading geo data\n",
    "gsm <- getGEO(geo_id, GSEMatrix = T)"
   ]
  },
  {
   "cell_type": "code",
   "execution_count": 7,
   "metadata": {},
   "outputs": [
    {
     "data": {
      "text/html": [
       "<ol class=list-inline>\n",
       "\t<li>'title'</li>\n",
       "\t<li>'geo_accession'</li>\n",
       "\t<li>'status'</li>\n",
       "\t<li>'submission_date'</li>\n",
       "\t<li>'last_update_date'</li>\n",
       "\t<li>'type'</li>\n",
       "\t<li>'channel_count'</li>\n",
       "\t<li>'source_name_ch1'</li>\n",
       "\t<li>'organism_ch1'</li>\n",
       "\t<li>'characteristics_ch1'</li>\n",
       "\t<li>'characteristics_ch1.1'</li>\n",
       "\t<li>'characteristics_ch1.2'</li>\n",
       "\t<li>'molecule_ch1'</li>\n",
       "\t<li>'extract_protocol_ch1'</li>\n",
       "\t<li>'extract_protocol_ch1.1'</li>\n",
       "\t<li>'taxid_ch1'</li>\n",
       "\t<li>'description'</li>\n",
       "\t<li>'data_processing'</li>\n",
       "\t<li>'data_processing.1'</li>\n",
       "\t<li>'data_processing.2'</li>\n",
       "\t<li>'data_processing.3'</li>\n",
       "\t<li>'platform_id'</li>\n",
       "\t<li>'contact_name'</li>\n",
       "\t<li>'contact_email'</li>\n",
       "\t<li>'contact_laboratory'</li>\n",
       "\t<li>'contact_department'</li>\n",
       "\t<li>'contact_institute'</li>\n",
       "\t<li>'contact_address'</li>\n",
       "\t<li>'contact_city'</li>\n",
       "\t<li>'contact_state'</li>\n",
       "\t<li>'contact_zip/postal_code'</li>\n",
       "\t<li>'contact_country'</li>\n",
       "\t<li>'data_row_count'</li>\n",
       "\t<li>'instrument_model'</li>\n",
       "\t<li>'library_selection'</li>\n",
       "\t<li>'library_source'</li>\n",
       "\t<li>'library_strategy'</li>\n",
       "\t<li>'relation'</li>\n",
       "\t<li>'relation.1'</li>\n",
       "\t<li>'supplementary_file_1'</li>\n",
       "\t<li>'donor_age:ch1'</li>\n",
       "\t<li>'gender:ch1'</li>\n",
       "\t<li>'inferred_cell_type:ch1'</li>\n",
       "</ol>\n"
      ],
      "text/latex": [
       "\\begin{enumerate*}\n",
       "\\item 'title'\n",
       "\\item 'geo\\_accession'\n",
       "\\item 'status'\n",
       "\\item 'submission\\_date'\n",
       "\\item 'last\\_update\\_date'\n",
       "\\item 'type'\n",
       "\\item 'channel\\_count'\n",
       "\\item 'source\\_name\\_ch1'\n",
       "\\item 'organism\\_ch1'\n",
       "\\item 'characteristics\\_ch1'\n",
       "\\item 'characteristics\\_ch1.1'\n",
       "\\item 'characteristics\\_ch1.2'\n",
       "\\item 'molecule\\_ch1'\n",
       "\\item 'extract\\_protocol\\_ch1'\n",
       "\\item 'extract\\_protocol\\_ch1.1'\n",
       "\\item 'taxid\\_ch1'\n",
       "\\item 'description'\n",
       "\\item 'data\\_processing'\n",
       "\\item 'data\\_processing.1'\n",
       "\\item 'data\\_processing.2'\n",
       "\\item 'data\\_processing.3'\n",
       "\\item 'platform\\_id'\n",
       "\\item 'contact\\_name'\n",
       "\\item 'contact\\_email'\n",
       "\\item 'contact\\_laboratory'\n",
       "\\item 'contact\\_department'\n",
       "\\item 'contact\\_institute'\n",
       "\\item 'contact\\_address'\n",
       "\\item 'contact\\_city'\n",
       "\\item 'contact\\_state'\n",
       "\\item 'contact\\_zip/postal\\_code'\n",
       "\\item 'contact\\_country'\n",
       "\\item 'data\\_row\\_count'\n",
       "\\item 'instrument\\_model'\n",
       "\\item 'library\\_selection'\n",
       "\\item 'library\\_source'\n",
       "\\item 'library\\_strategy'\n",
       "\\item 'relation'\n",
       "\\item 'relation.1'\n",
       "\\item 'supplementary\\_file\\_1'\n",
       "\\item 'donor\\_age:ch1'\n",
       "\\item 'gender:ch1'\n",
       "\\item 'inferred\\_cell\\_type:ch1'\n",
       "\\end{enumerate*}\n"
      ],
      "text/markdown": [
       "1. 'title'\n",
       "2. 'geo_accession'\n",
       "3. 'status'\n",
       "4. 'submission_date'\n",
       "5. 'last_update_date'\n",
       "6. 'type'\n",
       "7. 'channel_count'\n",
       "8. 'source_name_ch1'\n",
       "9. 'organism_ch1'\n",
       "10. 'characteristics_ch1'\n",
       "11. 'characteristics_ch1.1'\n",
       "12. 'characteristics_ch1.2'\n",
       "13. 'molecule_ch1'\n",
       "14. 'extract_protocol_ch1'\n",
       "15. 'extract_protocol_ch1.1'\n",
       "16. 'taxid_ch1'\n",
       "17. 'description'\n",
       "18. 'data_processing'\n",
       "19. 'data_processing.1'\n",
       "20. 'data_processing.2'\n",
       "21. 'data_processing.3'\n",
       "22. 'platform_id'\n",
       "23. 'contact_name'\n",
       "24. 'contact_email'\n",
       "25. 'contact_laboratory'\n",
       "26. 'contact_department'\n",
       "27. 'contact_institute'\n",
       "28. 'contact_address'\n",
       "29. 'contact_city'\n",
       "30. 'contact_state'\n",
       "31. 'contact_zip/postal_code'\n",
       "32. 'contact_country'\n",
       "33. 'data_row_count'\n",
       "34. 'instrument_model'\n",
       "35. 'library_selection'\n",
       "36. 'library_source'\n",
       "37. 'library_strategy'\n",
       "38. 'relation'\n",
       "39. 'relation.1'\n",
       "40. 'supplementary_file_1'\n",
       "41. 'donor_age:ch1'\n",
       "42. 'gender:ch1'\n",
       "43. 'inferred_cell_type:ch1'\n",
       "\n",
       "\n"
      ],
      "text/plain": [
       " [1] \"title\"                   \"geo_accession\"          \n",
       " [3] \"status\"                  \"submission_date\"        \n",
       " [5] \"last_update_date\"        \"type\"                   \n",
       " [7] \"channel_count\"           \"source_name_ch1\"        \n",
       " [9] \"organism_ch1\"            \"characteristics_ch1\"    \n",
       "[11] \"characteristics_ch1.1\"   \"characteristics_ch1.2\"  \n",
       "[13] \"molecule_ch1\"            \"extract_protocol_ch1\"   \n",
       "[15] \"extract_protocol_ch1.1\"  \"taxid_ch1\"              \n",
       "[17] \"description\"             \"data_processing\"        \n",
       "[19] \"data_processing.1\"       \"data_processing.2\"      \n",
       "[21] \"data_processing.3\"       \"platform_id\"            \n",
       "[23] \"contact_name\"            \"contact_email\"          \n",
       "[25] \"contact_laboratory\"      \"contact_department\"     \n",
       "[27] \"contact_institute\"       \"contact_address\"        \n",
       "[29] \"contact_city\"            \"contact_state\"          \n",
       "[31] \"contact_zip/postal_code\" \"contact_country\"        \n",
       "[33] \"data_row_count\"          \"instrument_model\"       \n",
       "[35] \"library_selection\"       \"library_source\"         \n",
       "[37] \"library_strategy\"        \"relation\"               \n",
       "[39] \"relation.1\"              \"supplementary_file_1\"   \n",
       "[41] \"donor_age:ch1\"           \"gender:ch1\"             \n",
       "[43] \"inferred_cell_type:ch1\" "
      ]
     },
     "metadata": {},
     "output_type": "display_data"
    }
   ],
   "source": [
    "# Shows available metadata\n",
    "colnames(pData(phenoData(gsm[[1]])))"
   ]
  },
  {
   "cell_type": "code",
   "execution_count": 16,
   "metadata": {},
   "outputs": [
    {
     "data": {
      "text/html": [
       "<table>\n",
       "<caption>A data.frame: 6 × 4</caption>\n",
       "<thead>\n",
       "\t<tr><th></th><th scope=col>geo</th><th scope=col>age</th><th scope=col>gender</th><th scope=col>cellType</th></tr>\n",
       "\t<tr><th></th><th scope=col>&lt;chr&gt;</th><th scope=col>&lt;chr&gt;</th><th scope=col>&lt;chr&gt;</th><th scope=col>&lt;chr&gt;</th></tr>\n",
       "</thead>\n",
       "<tbody>\n",
       "\t<tr><th scope=row>GSM2171880</th><td>GSM2171880</td><td>21</td><td>male</td><td>alpha </td></tr>\n",
       "\t<tr><th scope=row>GSM2171881</th><td>GSM2171881</td><td>21</td><td>male</td><td>alpha </td></tr>\n",
       "\t<tr><th scope=row>GSM2171882</th><td>GSM2171882</td><td>21</td><td>male</td><td>acinar</td></tr>\n",
       "\t<tr><th scope=row>GSM2171883</th><td>GSM2171883</td><td>21</td><td>male</td><td>alpha </td></tr>\n",
       "\t<tr><th scope=row>GSM2171884</th><td>GSM2171884</td><td>21</td><td>male</td><td>alpha </td></tr>\n",
       "\t<tr><th scope=row>GSM2171885</th><td>GSM2171885</td><td>21</td><td>male</td><td>alpha </td></tr>\n",
       "</tbody>\n",
       "</table>\n"
      ],
      "text/latex": [
       "A data.frame: 6 × 4\n",
       "\\begin{tabular}{r|llll}\n",
       "  & geo & age & gender & cellType\\\\\n",
       "  & <chr> & <chr> & <chr> & <chr>\\\\\n",
       "\\hline\n",
       "\tGSM2171880 & GSM2171880 & 21 & male & alpha \\\\\n",
       "\tGSM2171881 & GSM2171881 & 21 & male & alpha \\\\\n",
       "\tGSM2171882 & GSM2171882 & 21 & male & acinar\\\\\n",
       "\tGSM2171883 & GSM2171883 & 21 & male & alpha \\\\\n",
       "\tGSM2171884 & GSM2171884 & 21 & male & alpha \\\\\n",
       "\tGSM2171885 & GSM2171885 & 21 & male & alpha \\\\\n",
       "\\end{tabular}\n"
      ],
      "text/markdown": [
       "\n",
       "A data.frame: 6 × 4\n",
       "\n",
       "| <!--/--> | geo &lt;chr&gt; | age &lt;chr&gt; | gender &lt;chr&gt; | cellType &lt;chr&gt; |\n",
       "|---|---|---|---|---|\n",
       "| GSM2171880 | GSM2171880 | 21 | male | alpha  |\n",
       "| GSM2171881 | GSM2171881 | 21 | male | alpha  |\n",
       "| GSM2171882 | GSM2171882 | 21 | male | acinar |\n",
       "| GSM2171883 | GSM2171883 | 21 | male | alpha  |\n",
       "| GSM2171884 | GSM2171884 | 21 | male | alpha  |\n",
       "| GSM2171885 | GSM2171885 | 21 | male | alpha  |\n",
       "\n"
      ],
      "text/plain": [
       "           geo        age gender cellType\n",
       "GSM2171880 GSM2171880 21  male   alpha   \n",
       "GSM2171881 GSM2171881 21  male   alpha   \n",
       "GSM2171882 GSM2171882 21  male   acinar  \n",
       "GSM2171883 GSM2171883 21  male   alpha   \n",
       "GSM2171884 GSM2171884 21  male   alpha   \n",
       "GSM2171885 GSM2171885 21  male   alpha   "
      ]
     },
     "metadata": {},
     "output_type": "display_data"
    }
   ],
   "source": [
    "# Getting metadata\n",
    "cols <- c(\"geo_accession\", \"donor_age:ch1\", \"gender:ch1\", \"inferred_cell_type:ch1\")\n",
    "cols_rename <- c(\"geo\", \"age\", \"gender\", \"cellType\")\n",
    "\n",
    "metadata <- pData(phenoData(gsm[[1]]))[, cols]\n",
    "colnames(metadata) <- cols_rename\n",
    "head(metadata)"
   ]
  },
  {
   "cell_type": "code",
   "execution_count": 17,
   "metadata": {},
   "outputs": [],
   "source": [
    "# Save data\n",
    "metadata <- t(metadata)\n",
    "write.table(metadata, out_file, sep = \"\\t\", quote = F, col.names = F)"
   ]
  },
  {
   "cell_type": "code",
   "execution_count": null,
   "metadata": {},
   "outputs": [],
   "source": []
  }
 ],
 "metadata": {
  "kernelspec": {
   "display_name": "R",
   "language": "R",
   "name": "ir"
  },
  "language_info": {
   "codemirror_mode": "r",
   "file_extension": ".r",
   "mimetype": "text/x-r-source",
   "name": "R",
   "pygments_lexer": "r",
   "version": "3.6.0"
  }
 },
 "nbformat": 4,
 "nbformat_minor": 2
}
